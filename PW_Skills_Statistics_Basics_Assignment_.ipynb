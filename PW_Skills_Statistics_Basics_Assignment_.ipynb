{
  "nbformat": 4,
  "nbformat_minor": 0,
  "metadata": {
    "colab": {
      "provenance": []
    },
    "kernelspec": {
      "name": "python3",
      "display_name": "Python 3"
    },
    "language_info": {
      "name": "python"
    }
  },
  "cells": [
    {
      "cell_type": "markdown",
      "source": [
        "#1. What is statistics, and why is it important?\n",
        "- Statistics is a branch of mathematics that deals with the collection, analysis, interpretation, presentation, and organization of data. It provides methods to summarize and make sense of numerical information, allowing for informed decision-making based on data.\n",
        "- Statistics is crucial in various fields for several reasons:\n",
        "    - Decision Making – Helps in making data-driven decisions in business, healthcare, finance, and government policies.\n",
        "    - Predictive Analysis – Enables forecasting in stock markets, weather prediction, and machine learning models.\n",
        "    - Scientific Research – Used in hypothesis testing, clinical trials, and data validation in scientific studies.\n",
        "\n",
        "#2. What are the two main types of statistics ?\n",
        "- Descriptive Statistics: Descriptive statistics summarize and organize data in a meaningful way. They help in understanding the basic characteristics of a dataset without making conclusions beyond the given data.\n",
        "\n",
        "- Examples of Descriptive Statistics: Measures of Central Tendency (mean, median, mode) – Indicate the center of the data.\n",
        "\n",
        "- Inferential Statistics: Inferential statistics make predictions or inferences about a larger population based on a sample. They use probability theory to generalize results from a small dataset to a broader context.\n",
        "\n",
        "- Examples of Inferential Statistics: Hypothesis Testing (t-test, chi-square test) – Determines if a hypothesis about a population is true.\n",
        "\n",
        "#3. What are descriptive statistics ?\n",
        "- Descriptive statistics are methods used to summarize and present data in a meaningful way. They help in understanding the basic characteristics of a dataset without drawing conclusions beyond the given data.\n",
        "\n",
        "- Types of Descriptive Statistics: Descriptive statistics are broadly categorized into three types:\n",
        "\n",
        "    1. Measures of Central Tendency (Indicate the center of the data)\n",
        "      - Mean - The average of all values.\n",
        "      - Median - The middle value when data is sorted in ascending order.\n",
        "      - Mode - The most frequently occurring value in a dataset.\n",
        "\n",
        "    2. Measures of Dispersion (Show the spread of data)\n",
        "        - Range – Difference between the maximum and minimum values.\n",
        "        - Variance - Measures how far data points are from the mean.\n",
        "        - Standard Deviation- Square root of variance, indicating spread.        \n",
        "        - Interquartile Range (IQR) – Difference between the 75th percentile (Q3) and 25th percentile (Q1), showing the spread of the middle 50% of data.\n",
        "    3. 3. Data Visualization (Graphical Representation)\n",
        "        - Histogram – Shows the distribution of numerical data.\n",
        "        - Box Plot (Box-and-Whisker Plot) – Displays median, quartiles, and outliers.\n",
        "        - Bar Chart – Compares categorical data.\n",
        "        - Pie Chart – Represents proportions in a dataset.\n",
        "\n",
        " #4. What is inferential statistics ?\n",
        " - Inferential statistics is a branch of statistics that uses sample data to make predictions, conclusions, or generalizations about a larger population based on probability theory.\n",
        "- Components of Inferential Statistics\n",
        "    - Sampling – Selecting a subset (sample) from a population for analysis.\n",
        "    - Hypothesis Testing – Testing assumptions using statistical tests (e.g., t-test, chi-square test).\n",
        "    - Confidence Intervals – Estimating population parameters within a specific range (e.g., 95% confidence interval).\n",
        "    - Regression Analysis – Examining relationships between variables for prediction (e.g., linear regression).   \n",
        "\n",
        "#5 What is sampling in statistics?\n",
        "- Sampling is the process of selecting a subset of individuals or observations from a larger population to analyze and draw conclusions about the whole population.\n",
        "- It helps in reducing costs, saving time, and making data collection more manageable.\n",
        "- Proper sampling ensures that the selected data accurately represents the population.\n",
        "\n",
        "#6. What are the different types of sampling methods?\n",
        "- Probability Sampling: Every member has a known chance of being selected (e.g., simple random sampling, stratified sampling, systematic sampling, cluster sampling).\n",
        "- Non-Probability Sampling: Selection is based on non-random criteria, often influenced by convenience or judgment (e.g., convenience sampling, quota sampling, purposive sampling, snowball sampling).\n",
        "\n",
        "#7. What is the difference between random and non-random sampling?\n",
        "- Random Sampling: Every individual in the population has an equal chance of being selected, ensuring unbiased results.\n",
        "- Non-Random Sampling: Selection is based on subjective criteria or convenience, which may introduce bias and affect representativeness.\n",
        "\n",
        "#8. Define and give examples of qualitative and quantitative data.\n",
        "- Qualitative Data: Descriptive data that cannot be measured numerically (e.g., colors of cars, customer feedback, eye color).\n",
        "- Quantitative Data: Numerical data that can be counted or measured (e.g., height, weight, test scores, income).\n",
        "\n",
        "#9. What are the different types of data in statistics?\n",
        "- Qualitative (Categorical) Data: Includes nominal and ordinal data, representing categories or rankings.\n",
        "- Quantitative (Numerical) Data: Includes discrete and continuous data, representing measurable values.\n",
        "\n",
        "#10. Explain nominal, ordinal, interval, and ratio levels of measurement.\n",
        "- Nominal: Categories without a meaningful order (e.g., gender, hair color, nationality).\n",
        "- Ordinal: Categories with a meaningful order but unequal intervals (e.g., customer satisfaction ratings, education levels).\n",
        "- Interval: Numeric data with equal intervals but no true zero (e.g., temperature in Celsius, IQ scores).\n",
        "- Ratio: Numeric data with equal intervals and a true zero, allowing for meaningful comparisons (e.g., height, weight, income).\n",
        "\n",
        "#11. What is the measure of central tendency?\n",
        "- Measures of central tendency summarize a dataset by identifying a central or typical value.\n",
        "- The three main measures are mean, median, and mode.\n",
        "- These measures help understand the overall distribution of data.\n",
        "\n",
        "#12. Define mean, median, and mode.\n",
        "- Mean: The average of all values, calculated by dividing the sum of values by the total number.\n",
        "- Median: The middle value when data is arranged in ascending order, useful for skewed distributions.\n",
        "- Mode: The most frequently occurring value in a dataset, useful for categorical data.\n",
        "\n",
        "#13. What is the significance of the measure of central tendency?\n",
        "- It provides a single representative value that summarizes a dataset.\n",
        "- It helps compare different datasets and identify trends.\n",
        "- It is used in various fields like economics, medicine, and social sciences for decision-making.\n",
        "\n",
        "#14. What is variance, and how is it calculated?\n",
        "- Variance measures the spread of data points from the mean.\n",
        "- It is calculated as the average of the squared differences between each data point and the mean.\n",
        "- A higher variance indicates greater dispersion, while a lower variance indicates closer values.\n",
        "\n",
        "#15. What is standard deviation, and why is it important?\n",
        "- Standard deviation measures the amount of variation in a dataset.\n",
        "- It is calculated as the square root of the variance.\n",
        "- It is important because it provides a clear understanding of how spread out data values are.\n",
        "\n",
        "#16. Define and explain the term range in statistics.\n",
        "- Range is the difference between the highest and lowest values in a dataset.\n",
        "- It gives a quick measure of data dispersion but does not show variation within the dataset.\n",
        "- A larger range indicates more variability in the data.\n",
        "\n",
        "#17. What is the difference between variance and standard deviation?\n",
        "- Variance: Measures the squared deviations from the mean and is expressed in squared units.\n",
        "- Standard Deviation: The square root of variance, expressed in the same units as the data, making it easier to interpret.\n",
        "\n",
        "#18. What is skewness in a dataset?\n",
        "- Skewness measures the asymmetry of a dataset’s distribution.\n",
        "- A skewed dataset does not have a symmetrical bell-shaped curve.\n",
        "- Skewness can affect the mean and median, influencing data interpretation.\n",
        "\n",
        "#19. What does it mean if a dataset is positively or negatively skewed?\n",
        "- Positively Skewed: The tail on the right is longer, meaning most values are concentrated on the left (e.g., income distribution).\n",
        "- Negatively Skewed: The tail on the left is longer, meaning most values are concentrated on the right (e.g., exam scores where most students perform well).\n",
        "\n",
        "#20. Define and explain kurtosis.\n",
        "- Kurtosis measures the \"tailedness\" of a distribution.\n",
        "- High Kurtosis: Data has heavy tails, meaning more outliers.\n",
        "- Low Kurtosis: Data has light tails, meaning fewer outliers.\n",
        "- It helps in understanding the probability of extreme values in a dataset.\n",
        "\n",
        "#21. What is the purpose of covariance?\n",
        "- Covariance measures the direction of the relationship between two variables.\n",
        "- A positive covariance indicates that both variables increase together, while a negative covariance indicates an inverse relationship.\n",
        "- It helps in identifying trends but does not standardize the strength of the relationship.\n",
        "\n",
        "#22. What does correlation measure in statistics?\n",
        "- Correlation measures the strength and direction of a relationship between two variables.\n",
        "- It is standardized between -1 and 1, where -1 indicates a perfect negative relationship, 1 indicates a perfect positive relationship, and 0 means no correlation.\n",
        "- It is widely used in finance, research, and social sciences to identify patterns.\n",
        "\n",
        "#23. What is the difference between covariance and correlation?\n",
        "- Covariance: Measures how two variables move together but does not standardize the strength.\n",
        "- Correlation: Standardizes covariance into a range between -1 and 1, making it easier to interpret relationships.\n",
        "- Correlation is preferred when comparing relationships between different datasets.\n",
        "\n",
        "#24. What are some real-world applications of statistics?\n",
        "- Healthcare: Used in medical research, disease prediction, and patient outcome analysis.\n",
        "- Finance: Helps in risk assessment, stock market predictions, and investment strategies.\n",
        "- Business: Used for market analysis, customer behavior studies, and performance tracking.\n",
        "- Government: Assists in policy-making, census analysis, and economic forecasting.\n",
        "\n"
      ],
      "metadata": {
        "id": "STPQSZ7QbpOh"
      }
    },
    {
      "cell_type": "code",
      "source": [
        "#Q1. How do you calculate the mean, median, and mode of a dataset?\n",
        "import statistics\n",
        "\n",
        "data = [12, 15, 14, 10, 18, 12, 17, 15, 15, 14, 14, 18, 12]\n",
        "\n",
        "mean_value = statistics.mean(data)\n",
        "median_value = statistics.median(data)\n",
        "mode_value = statistics.mode(data)\n",
        "\n",
        "print(f\"Mean: {mean_value}\")\n",
        "print(f\"Median: {median_value}\")\n",
        "print(f\"Mode: {mode_value}\")"
      ],
      "metadata": {
        "colab": {
          "base_uri": "https://localhost:8080/"
        },
        "id": "YIjIpznPkmDp",
        "outputId": "764e268e-40e0-4188-e78a-cc57d895b5ce"
      },
      "execution_count": 3,
      "outputs": [
        {
          "output_type": "stream",
          "name": "stdout",
          "text": [
            "Mean: 14.307692307692308\n",
            "Median: 14\n",
            "Mode: 12\n"
          ]
        }
      ]
    },
    {
      "cell_type": "code",
      "source": [
        "# 2. Write a Python program to compute the variance and standard deviation of a dataset.\n",
        "\n",
        "import statistics\n",
        "\n",
        "data = [12, 15, 14, 10, 18, 12, 17, 15, 15, 14, 14, 18, 12]\n",
        "\n",
        "variance_value = statistics.variance(data)\n",
        "std_dev_value = statistics.stdev(data)\n",
        "\n",
        "print(f\"Variance: {variance_value}\")\n",
        "print(f\"Standard Deviation: {std_dev_value}\")\n"
      ],
      "metadata": {
        "colab": {
          "base_uri": "https://localhost:8080/"
        },
        "id": "eoirXGYvm9Ed",
        "outputId": "d6a4b434-9557-4d29-b65f-ddfc04722b7a"
      },
      "execution_count": 4,
      "outputs": [
        {
          "output_type": "stream",
          "name": "stdout",
          "text": [
            "Variance: 5.897435897435898\n",
            "Standard Deviation: 2.42846369077981\n"
          ]
        }
      ]
    },
    {
      "cell_type": "code",
      "source": [
        "# 3. Create a dataset and classify it into nominal, ordinal, interval, and ratio types.\n",
        "\n",
        "nominal_data = [\"Red\", \"Blue\", \"Green\", \"Yellow\"]\n",
        "ordinal_data = [\"Low\", \"Medium\", \"High\", \"Very High\"]\n",
        "interval_data = [-10, 0, 10, 20, 30]\n",
        "ratio_data = [1, 2, 3, 4, 5, 10, 20]\n",
        "\n",
        "print(\"Nominal Data:\", nominal_data)\n",
        "print(\"Ordinal Data:\", ordinal_data)\n",
        "print(\"Interval Data:\", interval_data)\n",
        "print(\"Ratio Data:\", ratio_data)\n"
      ],
      "metadata": {
        "colab": {
          "base_uri": "https://localhost:8080/"
        },
        "id": "QX5V6DOGnjbK",
        "outputId": "e7a4b592-da1f-42c6-d70a-dcf562ce6124"
      },
      "execution_count": 5,
      "outputs": [
        {
          "output_type": "stream",
          "name": "stdout",
          "text": [
            "Nominal Data: ['Red', 'Blue', 'Green', 'Yellow']\n",
            "Ordinal Data: ['Low', 'Medium', 'High', 'Very High']\n",
            "Interval Data: [-10, 0, 10, 20, 30]\n",
            "Ratio Data: [1, 2, 3, 4, 5, 10, 20]\n"
          ]
        }
      ]
    },
    {
      "cell_type": "code",
      "source": [
        "# 4. Implement sampling techniques like random sampling and stratified sampling.\n",
        "\n",
        "import numpy as np\n",
        "import pandas as pd\n",
        "from sklearn.model_selection import train_test_split\n",
        "\n",
        "data = pd.DataFrame({\n",
        "    'ID': range(1, 21),\n",
        "    'Category': np.random.choice(['A', 'B', 'C'], size=20),\n",
        "    'Value': np.random.randint(10, 100, size=20)\n",
        "})\n",
        "\n",
        "# Random Sampling\n",
        "random_sample = data.sample(n=5)\n",
        "\n",
        "# Stratified Sampling\n",
        "stratified_sample = data.groupby('Category', group_keys=False).apply(lambda x: x.sample(min(len(x), 2)))\n",
        "\n",
        "print(\"Random Sampling:\\n\", random_sample)\n",
        "print(\"\\nStratified Sampling:\\n\", stratified_sample)\n"
      ],
      "metadata": {
        "colab": {
          "base_uri": "https://localhost:8080/"
        },
        "id": "kSatFdJynlo-",
        "outputId": "dd7bf6c4-8972-44e4-f040-b2c6a8a9c32e"
      },
      "execution_count": 6,
      "outputs": [
        {
          "output_type": "stream",
          "name": "stdout",
          "text": [
            "Random Sampling:\n",
            "     ID Category  Value\n",
            "8    9        A     74\n",
            "0    1        A     14\n",
            "19  20        C     67\n",
            "6    7        B     78\n",
            "18  19        A     94\n",
            "\n",
            "Stratified Sampling:\n",
            "     ID Category  Value\n",
            "1    2        A     25\n",
            "8    9        A     74\n",
            "7    8        B     77\n",
            "15  16        B     57\n",
            "19  20        C     67\n",
            "4    5        C     22\n"
          ]
        },
        {
          "output_type": "stream",
          "name": "stderr",
          "text": [
            "<ipython-input-6-a31869a15cd4>:17: DeprecationWarning: DataFrameGroupBy.apply operated on the grouping columns. This behavior is deprecated, and in a future version of pandas the grouping columns will be excluded from the operation. Either pass `include_groups=False` to exclude the groupings or explicitly select the grouping columns after groupby to silence this warning.\n",
            "  stratified_sample = data.groupby('Category', group_keys=False).apply(lambda x: x.sample(min(len(x), 2)))\n"
          ]
        }
      ]
    },
    {
      "cell_type": "code",
      "source": [
        "# 5. Write a Python function to calculate the range of a dataset.\n",
        "\n",
        "def calculate_range(dataset):\n",
        "    return max(dataset) - min(dataset)\n",
        "\n",
        "data = [12, 15, 14, 10, 18, 12, 17, 15, 15, 14, 14, 18, 12]\n",
        "range_value = calculate_range(data)\n",
        "\n",
        "print(f\"Range: {range_value}\")\n"
      ],
      "metadata": {
        "colab": {
          "base_uri": "https://localhost:8080/"
        },
        "id": "yQjmlSFlnork",
        "outputId": "5f9cb367-2cc6-41ca-a847-e823b34aec6b"
      },
      "execution_count": 7,
      "outputs": [
        {
          "output_type": "stream",
          "name": "stdout",
          "text": [
            "Range: 8\n"
          ]
        }
      ]
    },
    {
      "cell_type": "code",
      "source": [
        "# 6. Create a dataset and plot its histogram to visualize skewness.\n",
        "\n",
        "import matplotlib.pyplot as plt\n",
        "import numpy as np\n",
        "\n",
        "data = np.random.exponential(scale=2, size=1000)\n",
        "\n",
        "plt.hist(data, bins=30, edgecolor='black')\n",
        "plt.xlabel('Values')\n",
        "plt.ylabel('Frequency')\n",
        "plt.title('Histogram to Visualize Skewness')\n",
        "plt.show()\n"
      ],
      "metadata": {
        "colab": {
          "base_uri": "https://localhost:8080/",
          "height": 472
        },
        "id": "K-yO26E2nrSp",
        "outputId": "e93b6c3f-ccb0-44c0-be34-f23b706aae3b"
      },
      "execution_count": 8,
      "outputs": [
        {
          "output_type": "display_data",
          "data": {
            "text/plain": [
              "<Figure size 640x480 with 1 Axes>"
            ],
            "image/png": "[encoded data removed]"
          },
          "metadata": {}
        }
      ]
    },
    {
      "cell_type": "code",
      "source": [
        "# 7. Calculate skewness and kurtosis of a dataset using Python libraries.\n",
        "\n",
        "import scipy.stats as stats\n",
        "import numpy as np\n",
        "\n",
        "data = np.random.normal(loc=50, scale=15, size=1000)\n",
        "\n",
        "skewness = stats.skew(data)\n",
        "kurtosis = stats.kurtosis(data)\n",
        "\n",
        "print(f\"Skewness: {skewness}\")\n",
        "print(f\"Kurtosis: {kurtosis}\")\n"
      ],
      "metadata": {
        "colab": {
          "base_uri": "https://localhost:8080/"
        },
        "id": "HXH9PlYGnwo0",
        "outputId": "66f40868-ee12-43e0-bce1-79ec39d1a589"
      },
      "execution_count": 9,
      "outputs": [
        {
          "output_type": "stream",
          "name": "stdout",
          "text": [
            "Skewness: -0.08062198951320669\n",
            "Kurtosis: -0.05422589163493674\n"
          ]
        }
      ]
    },
    {
      "cell_type": "code",
      "source": [
        "# 8. Generate a dataset and demonstrate positive and negative skewness.\n",
        "\n",
        "import numpy as np\n",
        "import matplotlib.pyplot as plt\n",
        "\n",
        "pos_skew_data = np.random.exponential(scale=2, size=1000)\n",
        "neg_skew_data = -np.random.exponential(scale=2, size=1000) + 10\n",
        "\n",
        "plt.figure(figsize=(10, 5))\n",
        "plt.hist(pos_skew_data, bins=30, alpha=0.5, label='Positive Skew')\n",
        "plt.hist(neg_skew_data, bins=30, alpha=0.5, label='Negative Skew')\n",
        "plt.legend()\n",
        "plt.xlabel('Values')\n",
        "plt.ylabel('Frequency')\n",
        "plt.title('Positive and Negative Skewness')\n",
        "plt.show()\n",
        "\n"
      ],
      "metadata": {
        "colab": {
          "base_uri": "https://localhost:8080/",
          "height": 487
        },
        "id": "HGW0Sv2cny-i",
        "outputId": "e8b2919e-164c-4c9b-afb7-c103ad6a8ed3"
      },
      "execution_count": 10,
      "outputs": [
        {
          "output_type": "display_data",
          "data": {
            "text/plain": [
              "<Figure size 1000x500 with 1 Axes>"
            ],
            "image/png": "[encoded data removed]"
          },
          "metadata": {}
        }
      ]
    },
    {
      "cell_type": "code",
      "source": [
        "# 9. Write a Python script to calculate covariance between two datasets.\n",
        "\n",
        "import numpy as np\n",
        "\n",
        "x = [10, 20, 30, 40, 50]\n",
        "y = [5, 10, 15, 20, 25]\n",
        "\n",
        "covariance = np.cov(x, y)[0, 1]\n",
        "print(f\"Covariance: {covariance}\")\n",
        "\n"
      ],
      "metadata": {
        "colab": {
          "base_uri": "https://localhost:8080/"
        },
        "id": "u3hs6a_yn3n8",
        "outputId": "0d354752-b442-4430-ae71-ba951a97e046"
      },
      "execution_count": 11,
      "outputs": [
        {
          "output_type": "stream",
          "name": "stdout",
          "text": [
            "Covariance: 125.0\n"
          ]
        }
      ]
    },
    {
      "cell_type": "code",
      "source": [
        "# 10. Write a Python script to calculate the correlation coefficient between two datasets.\n",
        "\n",
        "import numpy as np\n",
        "\n",
        "x = [10, 20, 30, 40, 50]\n",
        "y = [5, 10, 15, 20, 25]\n",
        "\n",
        "correlation = np.corrcoef(x, y)[0, 1]\n",
        "print(f\"Correlation Coefficient: {correlation}\")\n"
      ],
      "metadata": {
        "colab": {
          "base_uri": "https://localhost:8080/"
        },
        "id": "m8QOQtkLn5rC",
        "outputId": "43b828fc-e4d3-4605-c649-0c0e5c4d4ecd"
      },
      "execution_count": 12,
      "outputs": [
        {
          "output_type": "stream",
          "name": "stdout",
          "text": [
            "Correlation Coefficient: 1.0\n"
          ]
        }
      ]
    },
    {
      "cell_type": "code",
      "source": [
        "# 11. Create a scatter plot to visualize the relationship between two variables.\n",
        "\n",
        "import matplotlib.pyplot as plt\n",
        "\n",
        "x = [10, 20, 30, 40, 50]\n",
        "y = [5, 10, 15, 20, 25]\n",
        "\n",
        "plt.scatter(x, y, color='blue')\n",
        "plt.xlabel('X values')\n",
        "plt.ylabel('Y values')\n",
        "plt.title('Scatter Plot')\n",
        "plt.show()\n"
      ],
      "metadata": {
        "colab": {
          "base_uri": "https://localhost:8080/",
          "height": 472
        },
        "id": "eo9uU5UYn7hR",
        "outputId": "22436173-f516-4973-d0eb-e5e3a553c4ae"
      },
      "execution_count": 13,
      "outputs": [
        {
          "output_type": "display_data",
          "data": {
            "text/plain": [
              "<Figure size 640x480 with 1 Axes>"
            ],
            "image/png": "[encoded data removed]"
          },
          "metadata": {}
        }
      ]
    },
    {
      "cell_type": "code",
      "source": [
        "# 12. Implement and compare simple random sampling and systematic sampling.\n",
        "\n",
        "import pandas as pd\n",
        "import numpy as np\n",
        "\n",
        "data = pd.DataFrame({'ID': range(1, 21), 'Value': np.random.randint(1, 100, 20)})\n",
        "\n",
        "# Simple Random Sampling\n",
        "random_sample = data.sample(n=5)\n",
        "\n",
        "# Systematic Sampling\n",
        "interval = len(data) // 5\n",
        "systematic_sample = data.iloc[::interval]\n",
        "\n",
        "print(\"Simple Random Sampling:\\n\", random_sample)\n",
        "print(\"\\nSystematic Sampling:\\n\", systematic_sample)\n"
      ],
      "metadata": {
        "colab": {
          "base_uri": "https://localhost:8080/"
        },
        "id": "aAydDj-Ln-x1",
        "outputId": "f840ee8d-8434-4835-afb1-ecba13c4d493"
      },
      "execution_count": 14,
      "outputs": [
        {
          "output_type": "stream",
          "name": "stdout",
          "text": [
            "Simple Random Sampling:\n",
            "     ID  Value\n",
            "8    9     21\n",
            "6    7     47\n",
            "13  14     21\n",
            "10  11     15\n",
            "9   10     75\n",
            "\n",
            "Systematic Sampling:\n",
            "     ID  Value\n",
            "0    1     21\n",
            "4    5     84\n",
            "8    9     21\n",
            "12  13     11\n",
            "16  17     73\n"
          ]
        }
      ]
    },
    {
      "cell_type": "code",
      "source": [
        "# 13. Calculate the mean, median, and mode of grouped data.\n",
        "\n",
        "import statistics\n",
        "\n",
        "data = [10, 20, 20, 30, 30, 30, 40, 50, 50, 50, 50]\n",
        "\n",
        "mean_value = statistics.mean(data)\n",
        "median_value = statistics.median(data)\n",
        "mode_value = statistics.mode(data)\n",
        "\n",
        "print(f\"Mean: {mean_value}\")\n",
        "print(f\"Median: {median_value}\")\n",
        "print(f\"Mode: {mode_value}\")\n"
      ],
      "metadata": {
        "colab": {
          "base_uri": "https://localhost:8080/"
        },
        "id": "ER5I1PmaoC_F",
        "outputId": "75653106-61af-4a52-c269-235cd60c6f0f"
      },
      "execution_count": 15,
      "outputs": [
        {
          "output_type": "stream",
          "name": "stdout",
          "text": [
            "Mean: 34.54545454545455\n",
            "Median: 30\n",
            "Mode: 50\n"
          ]
        }
      ]
    },
    {
      "cell_type": "code",
      "source": [
        "#14. Simulate data using Python and calculate its central tendency and dispersion.\n",
        "import numpy as np\n",
        "import statistics\n",
        "\n",
        "# Generate random data\n",
        "data = np.random.randint(10, 100, size=20)\n",
        "\n",
        "# Convert NumPy array to a standard Python list\n",
        "data_list = data.tolist()  # or list(map(int, data))\n",
        "\n",
        "# Statistical measures\n",
        "mean_value = statistics.mean(data_list)\n",
        "median_value = statistics.median(data_list)\n",
        "mode_values = statistics.multimode(data_list)  # Handles multiple modes\n",
        "variance_value = statistics.variance(data_list)\n",
        "std_dev_value = statistics.stdev(data_list)\n",
        "\n",
        "# Display results\n",
        "print(f\"Data: {data}\")\n",
        "print(f\"Mean: {mean_value}\")\n",
        "print(f\"Median: {median_value}\")\n",
        "print(f\"Mode(s): {mode_values}\")\n",
        "print(f\"Variance: {variance_value}\")\n",
        "print(f\"Standard Deviation: {std_dev_value}\")\n"
      ],
      "metadata": {
        "colab": {
          "base_uri": "https://localhost:8080/"
        },
        "id": "wtvR-RtboEdy",
        "outputId": "650e26e0-82ac-4e9b-bbd5-0d7c29675e94"
      },
      "execution_count": 18,
      "outputs": [
        {
          "output_type": "stream",
          "name": "stdout",
          "text": [
            "Data: [67 35 50 89 32 71 61 25 66 25 78 75 93 67 32 96 49 64 28 60]\n",
            "Mean: 58.15\n",
            "Median: 62.5\n",
            "Mode(s): [67, 32, 25]\n",
            "Variance: 519.2921052631579\n",
            "Standard Deviation: 22.78798159695496\n"
          ]
        }
      ]
    },
    {
      "cell_type": "code",
      "source": [
        "# 15. Use NumPy or pandas to summarize a dataset’s descriptive statistics.\n",
        "\n",
        "import pandas as pd\n",
        "import numpy as np\n",
        "\n",
        "data = pd.DataFrame({'Values': np.random.randint(1, 100, 50)})\n",
        "summary = data.describe()\n",
        "\n",
        "print(summary)\n",
        "\n"
      ],
      "metadata": {
        "colab": {
          "base_uri": "https://localhost:8080/"
        },
        "id": "gaFk8MPcooPv",
        "outputId": "b3fe30bf-79d5-4242-fc8f-50a87eb5f676"
      },
      "execution_count": 19,
      "outputs": [
        {
          "output_type": "stream",
          "name": "stdout",
          "text": [
            "          Values\n",
            "count  50.000000\n",
            "mean   45.900000\n",
            "std    26.339425\n",
            "min     5.000000\n",
            "25%    26.500000\n",
            "50%    38.500000\n",
            "75%    62.500000\n",
            "max    98.000000\n"
          ]
        }
      ]
    },
    {
      "cell_type": "code",
      "source": [
        "# 16. Plot a boxplot to understand the spread and identify outliers.\n",
        "\n",
        "import matplotlib.pyplot as plt\n",
        "import numpy as np\n",
        "\n",
        "data = np.random.randint(1, 100, 50)\n",
        "\n",
        "plt.boxplot(data, vert=False)\n",
        "plt.xlabel(\"Values\")\n",
        "plt.title(\"Boxplot to Identify Outliers\")\n",
        "plt.show()\n"
      ],
      "metadata": {
        "colab": {
          "base_uri": "https://localhost:8080/",
          "height": 472
        },
        "id": "jWAXv17CoxNd",
        "outputId": "df8dfc6a-0eb0-4c78-f295-47ab97b22d5e"
      },
      "execution_count": 20,
      "outputs": [
        {
          "output_type": "display_data",
          "data": {
            "text/plain": [
              "<Figure size 640x480 with 1 Axes>"
            ],
            "image/png": "[encoded data removed]"
          },
          "metadata": {}
        }
      ]
    },
    {
      "cell_type": "code",
      "source": [
        "#17.  Calculate the interquartile range (IQR) of a dataset.\n",
        "\n",
        "import numpy as np\n",
        "\n",
        "data = np.random.randint(1, 100, 50)\n",
        "Q1 = np.percentile(data, 25)\n",
        "Q3 = np.percentile(data, 75)\n",
        "IQR = Q3 - Q1\n",
        "\n",
        "print(f\"Interquartile Range (IQR): {IQR}\")"
      ],
      "metadata": {
        "colab": {
          "base_uri": "https://localhost:8080/"
        },
        "id": "bEZAeeGro2l_",
        "outputId": "eef64878-fd90-4d14-919b-ad657e6705ce"
      },
      "execution_count": 21,
      "outputs": [
        {
          "output_type": "stream",
          "name": "stdout",
          "text": [
            "Interquartile Range (IQR): 49.25\n"
          ]
        }
      ]
    },
    {
      "cell_type": "code",
      "source": [
        "#18. Implement Z-score normalization and explain its significance.\n",
        "\n",
        "import numpy as np\n",
        "from scipy.stats import zscore\n",
        "\n",
        "data = np.random.randint(1, 100, 50)\n",
        "z_scores = zscore(data)\n",
        "\n",
        "print(f\"Original Data: {data}\")\n",
        "print(f\"Z-score Normalized Data: {z_scores}\")"
      ],
      "metadata": {
        "colab": {
          "base_uri": "https://localhost:8080/"
        },
        "id": "F6tiShdRo7aD",
        "outputId": "ad902dcf-0753-42ee-9cb6-0e85833a6f30"
      },
      "execution_count": 22,
      "outputs": [
        {
          "output_type": "stream",
          "name": "stdout",
          "text": [
            "Original Data: [ 3 78 66 79 30 62  2 81 53 89 11 81 57 12 77 26 50  5 83 97 19 50 15 81\n",
            " 91 98 54 67  6  5 66 22 90 57 86 57 63 81 73 47 96  7 43 98 80 85 28 12\n",
            " 89 41]\n",
            "Z-score Normalized Data: [-1.68001182  0.74401447  0.35617026  0.77633482 -0.80736235  0.22688886\n",
            " -1.71233217  0.84097552 -0.06399429  1.09953832 -1.42144901  0.84097552\n",
            "  0.06528711 -1.38912866  0.71169412 -0.93664376 -0.16095535 -1.61537112\n",
            "  0.90561622  1.35810113 -1.16288621 -0.16095535 -1.29216761  0.84097552\n",
            "  1.16417902  1.39042148 -0.03167394  0.38849061 -1.58305077 -1.61537112\n",
            "  0.35617026 -1.06592516  1.13185867  0.06528711  1.00257727  0.06528711\n",
            "  0.25920921  0.84097552  0.58241272 -0.2579164   1.32578078 -1.55073041\n",
            " -0.3871978   1.39042148  0.80865517  0.97025692 -0.87200306 -1.38912866\n",
            "  1.09953832 -0.4518385 ]\n"
          ]
        }
      ]
    },
    {
      "cell_type": "code",
      "source": [
        "#19. Compare two datasets using their standard deviations.\n",
        "\n",
        "import numpy as np\n",
        "\n",
        "data1 = np.random.randint(1, 100, 50)\n",
        "data2 = np.random.randint(1, 200, 50)\n",
        "\n",
        "std_dev1 = np.std(data1, ddof=1)\n",
        "std_dev2 = np.std(data2, ddof=1)\n",
        "\n",
        "print(f\"Standard Deviation of Dataset 1: {std_dev1}\")\n",
        "print(f\"Standard Deviation of Dataset 2: {std_dev2}\")"
      ],
      "metadata": {
        "colab": {
          "base_uri": "https://localhost:8080/"
        },
        "id": "bwtKmck_o-pn",
        "outputId": "797ce5c6-88f2-4313-f049-955038d160b0"
      },
      "execution_count": 23,
      "outputs": [
        {
          "output_type": "stream",
          "name": "stdout",
          "text": [
            "Standard Deviation of Dataset 1: 27.86911098221067\n",
            "Standard Deviation of Dataset 2: 50.70291623058495\n"
          ]
        }
      ]
    },
    {
      "cell_type": "code",
      "source": [
        "#20. Write a Python program to visualize covariance using a heatmap.\n",
        "\n",
        "import numpy as np\n",
        "import seaborn as sns\n",
        "import matplotlib.pyplot as plt\n",
        "\n",
        "data = np.random.rand(100, 2)\n",
        "cov_matrix = np.cov(data, rowvar=False)\n",
        "\n",
        "sns.heatmap(cov_matrix, annot=True, cmap=\"coolwarm\")\n",
        "plt.title(\"Covariance Heatmap\")\n",
        "plt.show()"
      ],
      "metadata": {
        "colab": {
          "base_uri": "https://localhost:8080/",
          "height": 452
        },
        "id": "scB4gTBPpCEF",
        "outputId": "8bdaab79-74bd-4f27-aa35-b04d5a958f8e"
      },
      "execution_count": 24,
      "outputs": [
        {
          "output_type": "display_data",
          "data": {
            "text/plain": [
              "<Figure size 640x480 with 2 Axes>"
            ],
            "image/png": "[encoded data removed]"
          },
          "metadata": {}
        }
      ]
    },
    {
      "cell_type": "code",
      "source": [
        "#21.  Use seaborn to create a correlation matrix for a dataset.\n",
        "\n",
        "import pandas as pd\n",
        "import seaborn as sns\n",
        "import matplotlib.pyplot as plt\n",
        "\n",
        "data = pd.DataFrame(np.random.rand(50, 4), columns=['A', 'B', 'C', 'D'])\n",
        "\n",
        "correlation_matrix = data.corr()\n",
        "sns.heatmap(correlation_matrix, annot=True, cmap=\"coolwarm\")\n",
        "\n",
        "plt.title(\"Correlation Matrix\")\n",
        "plt.show()"
      ],
      "metadata": {
        "colab": {
          "base_uri": "https://localhost:8080/",
          "height": 452
        },
        "id": "JPSMOq63pGwh",
        "outputId": "f2731a3b-2023-4782-8fe6-1acc4de78314"
      },
      "execution_count": 25,
      "outputs": [
        {
          "output_type": "display_data",
          "data": {
            "text/plain": [
              "<Figure size 640x480 with 2 Axes>"
            ],
            "image/png": "[encoded data removed]"
          },
          "metadata": {}
        }
      ]
    },
    {
      "cell_type": "code",
      "source": [
        "#22. Generate a dataset and implement both variance and standard deviation computations.\n",
        "\n",
        "import numpy as np\n",
        "\n",
        "data = np.random.randint(1, 100, 50)\n",
        "variance_value = np.var(data, ddof=1)\n",
        "std_dev_value = np.std(data, ddof=1)\n",
        "\n",
        "print(f\"Variance: {variance_value}\")\n",
        "print(f\"Standard Deviation: {std_dev_value}\")"
      ],
      "metadata": {
        "colab": {
          "base_uri": "https://localhost:8080/"
        },
        "id": "WRvdxLNnpq3o",
        "outputId": "f992ac0e-489f-4fd5-8ea2-b24737633216"
      },
      "execution_count": 26,
      "outputs": [
        {
          "output_type": "stream",
          "name": "stdout",
          "text": [
            "Variance: 794.2138775510203\n",
            "Standard Deviation: 28.181800466808724\n"
          ]
        }
      ]
    },
    {
      "cell_type": "code",
      "source": [
        "#23. Visualize skewness and kurtosis using Python libraries like matplotlib or seaborn.\n",
        "\n",
        "import numpy as np\n",
        "import seaborn as sns\n",
        "import matplotlib.pyplot as plt\n",
        "from scipy.stats import skew, kurtosis\n",
        "\n",
        "data = np.random.normal(loc=50, scale=15, size=1000)\n",
        "\n",
        "sns.histplot(data, bins=30, kde=True)\n",
        "plt.title(\"Histogram to Visualize Skewness & Kurtosis\")\n",
        "plt.show()\n",
        "\n",
        "skewness_value = skew(data)\n",
        "kurtosis_value = kurtosis(data)\n",
        "\n",
        "print(f\"Skewness: {skewness_value}\")\n",
        "print(f\"Kurtosis: {kurtosis_value}\")"
      ],
      "metadata": {
        "colab": {
          "base_uri": "https://localhost:8080/",
          "height": 487
        },
        "id": "MTlH3JKPpve7",
        "outputId": "f86a9388-01bd-4305-88dd-1fa0c75fe8a5"
      },
      "execution_count": 27,
      "outputs": [
        {
          "output_type": "display_data",
          "data": {
            "text/plain": [
              "<Figure size 640x480 with 1 Axes>"
            ],
            "image/png": "[encoded data removed]"
          },
          "metadata": {}
        },
        {
          "output_type": "stream",
          "name": "stdout",
          "text": [
            "Skewness: -0.1952528121155364\n",
            "Kurtosis: 0.10791751527443427\n"
          ]
        }
      ]
    },
    {
      "cell_type": "code",
      "source": [
        "#24. Implement the Pearson and Spearman correlation coefficients for a dataset.\n",
        "\n",
        "import numpy as np\n",
        "from scipy.stats import pearsonr, spearmanr\n",
        "\n",
        "x = np.random.randint(1, 100, 50)\n",
        "y = np.random.randint(1, 100, 50)\n",
        "\n",
        "pearson_corr, _ = pearsonr(x, y)\n",
        "spearman_corr, _ = spearmanr(x, y)\n",
        "\n",
        "print(f\"Pearson Correlation Coefficient: {pearson_corr}\")\n",
        "print(f\"Spearman Correlation Coefficient: {spearman_corr}\")"
      ],
      "metadata": {
        "colab": {
          "base_uri": "https://localhost:8080/"
        },
        "id": "jKRt6QZ0pz8v",
        "outputId": "1685d58d-cc40-4d7b-91a0-7f448d78207a"
      },
      "execution_count": 28,
      "outputs": [
        {
          "output_type": "stream",
          "name": "stdout",
          "text": [
            "Pearson Correlation Coefficient: 0.20898535928000567\n",
            "Spearman Correlation Coefficient: 0.18670574521500702\n"
          ]
        }
      ]
    }
  ]
}